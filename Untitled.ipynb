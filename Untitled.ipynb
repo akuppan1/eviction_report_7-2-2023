{
 "cells": [
  {
   "cell_type": "code",
   "execution_count": 39,
   "metadata": {},
   "outputs": [],
   "source": [
    "import pandas as pd\n",
    "import matplotlib.pyplot as plt"
   ]
  },
  {
   "cell_type": "code",
   "execution_count": 40,
   "metadata": {},
   "outputs": [],
   "source": [
    "df = pd.read_csv('Evictions.csv')"
   ]
  },
  {
   "cell_type": "code",
   "execution_count": 41,
   "metadata": {},
   "outputs": [
    {
     "data": {
      "text/html": [
       "<div>\n",
       "<style scoped>\n",
       "    .dataframe tbody tr th:only-of-type {\n",
       "        vertical-align: middle;\n",
       "    }\n",
       "\n",
       "    .dataframe tbody tr th {\n",
       "        vertical-align: top;\n",
       "    }\n",
       "\n",
       "    .dataframe thead th {\n",
       "        text-align: right;\n",
       "    }\n",
       "</style>\n",
       "<table border=\"1\" class=\"dataframe\">\n",
       "  <thead>\n",
       "    <tr style=\"text-align: right;\">\n",
       "      <th></th>\n",
       "      <th>Court Index Number</th>\n",
       "      <th>Docket Number</th>\n",
       "      <th>Eviction Address</th>\n",
       "      <th>Eviction Apartment Number</th>\n",
       "      <th>Executed Date</th>\n",
       "      <th>Marshal First Name</th>\n",
       "      <th>Marshal Last Name</th>\n",
       "      <th>Residential/Commercial</th>\n",
       "      <th>BOROUGH</th>\n",
       "      <th>Eviction Postcode</th>\n",
       "      <th>Ejectment</th>\n",
       "      <th>Eviction/Legal Possession</th>\n",
       "      <th>Latitude</th>\n",
       "      <th>Longitude</th>\n",
       "      <th>Community Board</th>\n",
       "      <th>Council District</th>\n",
       "      <th>Census Tract</th>\n",
       "      <th>BIN</th>\n",
       "      <th>BBL</th>\n",
       "      <th>NTA</th>\n",
       "    </tr>\n",
       "  </thead>\n",
       "  <tbody>\n",
       "    <tr>\n",
       "      <th>0</th>\n",
       "      <td>71946/19</td>\n",
       "      <td>99474</td>\n",
       "      <td>446 OCEAN AVENUE</td>\n",
       "      <td>BASEMENT ROOM</td>\n",
       "      <td>12/07/2020</td>\n",
       "      <td>Henry</td>\n",
       "      <td>Daley</td>\n",
       "      <td>Residential</td>\n",
       "      <td>BROOKLYN</td>\n",
       "      <td>11226</td>\n",
       "      <td>Not an Ejectment</td>\n",
       "      <td>Possession</td>\n",
       "      <td>40.651830</td>\n",
       "      <td>-73.961356</td>\n",
       "      <td>14.0</td>\n",
       "      <td>40.0</td>\n",
       "      <td>50801.0</td>\n",
       "      <td>3346384.0</td>\n",
       "      <td>3.050800e+09</td>\n",
       "      <td>Flatbush</td>\n",
       "    </tr>\n",
       "    <tr>\n",
       "      <th>1</th>\n",
       "      <td>98653/17A</td>\n",
       "      <td>79211</td>\n",
       "      <td>500 DRIGGS AVE  A/K/ A 179 NORTH 9TH ST</td>\n",
       "      <td>404</td>\n",
       "      <td>06/15/2018</td>\n",
       "      <td>Justin</td>\n",
       "      <td>Grossman</td>\n",
       "      <td>Residential</td>\n",
       "      <td>BROOKLYN</td>\n",
       "      <td>11211</td>\n",
       "      <td>Not an Ejectment</td>\n",
       "      <td>Possession</td>\n",
       "      <td>40.718460</td>\n",
       "      <td>-73.955340</td>\n",
       "      <td>1.0</td>\n",
       "      <td>33.0</td>\n",
       "      <td>517.0</td>\n",
       "      <td>3061702.0</td>\n",
       "      <td>3.023050e+09</td>\n",
       "      <td>North Side-South Side</td>\n",
       "    </tr>\n",
       "    <tr>\n",
       "      <th>2</th>\n",
       "      <td>56679/17</td>\n",
       "      <td>10268</td>\n",
       "      <td>1155 BROADWAY A/K/A 1157 BROADWAY</td>\n",
       "      <td>NaN</td>\n",
       "      <td>09/27/2017</td>\n",
       "      <td>Edward</td>\n",
       "      <td>Guida</td>\n",
       "      <td>Commercial</td>\n",
       "      <td>MANHATTAN</td>\n",
       "      <td>10001</td>\n",
       "      <td>Not an Ejectment</td>\n",
       "      <td>Possession</td>\n",
       "      <td>40.744310</td>\n",
       "      <td>-73.988924</td>\n",
       "      <td>5.0</td>\n",
       "      <td>3.0</td>\n",
       "      <td>58.0</td>\n",
       "      <td>1015657.0</td>\n",
       "      <td>1.008280e+09</td>\n",
       "      <td>Hudson Yards-Chelsea-Flatiron-Union Square</td>\n",
       "    </tr>\n",
       "    <tr>\n",
       "      <th>3</th>\n",
       "      <td>74870/18</td>\n",
       "      <td>8934</td>\n",
       "      <td>1747 EAST 3RD STREET APT. A-3</td>\n",
       "      <td>A-3</td>\n",
       "      <td>09/20/2018</td>\n",
       "      <td>Robert</td>\n",
       "      <td>Renzulli</td>\n",
       "      <td>Residential</td>\n",
       "      <td>BROOKLYN</td>\n",
       "      <td>11223</td>\n",
       "      <td>Not an Ejectment</td>\n",
       "      <td>Possession</td>\n",
       "      <td>40.607776</td>\n",
       "      <td>-73.970641</td>\n",
       "      <td>15.0</td>\n",
       "      <td>44.0</td>\n",
       "      <td>422.0</td>\n",
       "      <td>3176037.0</td>\n",
       "      <td>3.066350e+09</td>\n",
       "      <td>Homecrest</td>\n",
       "    </tr>\n",
       "    <tr>\n",
       "      <th>4</th>\n",
       "      <td>B068861/18</td>\n",
       "      <td>403887</td>\n",
       "      <td>700 ROSEWOOD STREET</td>\n",
       "      <td>5N</td>\n",
       "      <td>09/11/2019</td>\n",
       "      <td>Richard</td>\n",
       "      <td>McCoy</td>\n",
       "      <td>Residential</td>\n",
       "      <td>BRONX</td>\n",
       "      <td>10467</td>\n",
       "      <td>Not an Ejectment</td>\n",
       "      <td>Possession</td>\n",
       "      <td>40.873206</td>\n",
       "      <td>-73.866977</td>\n",
       "      <td>12.0</td>\n",
       "      <td>15.0</td>\n",
       "      <td>374.0</td>\n",
       "      <td>2118206.0</td>\n",
       "      <td>2.045960e+09</td>\n",
       "      <td>Williamsbridge-Olinville</td>\n",
       "    </tr>\n",
       "  </tbody>\n",
       "</table>\n",
       "</div>"
      ],
      "text/plain": [
       "  Court Index Number  Docket Number                          Eviction Address  \\\n",
       "0           71946/19           99474                         446 OCEAN AVENUE   \n",
       "1          98653/17A           79211  500 DRIGGS AVE  A/K/ A 179 NORTH 9TH ST   \n",
       "2           56679/17           10268        1155 BROADWAY A/K/A 1157 BROADWAY   \n",
       "3           74870/18            8934            1747 EAST 3RD STREET APT. A-3   \n",
       "4         B068861/18          403887                      700 ROSEWOOD STREET   \n",
       "\n",
       "  Eviction Apartment Number Executed Date Marshal First Name  \\\n",
       "0             BASEMENT ROOM    12/07/2020              Henry   \n",
       "1                       404    06/15/2018             Justin   \n",
       "2                       NaN    09/27/2017             Edward   \n",
       "3                       A-3    09/20/2018             Robert   \n",
       "4                        5N    09/11/2019            Richard   \n",
       "\n",
       "  Marshal Last Name Residential/Commercial    BOROUGH  Eviction Postcode  \\\n",
       "0             Daley            Residential   BROOKLYN              11226   \n",
       "1          Grossman            Residential   BROOKLYN              11211   \n",
       "2             Guida             Commercial  MANHATTAN              10001   \n",
       "3          Renzulli            Residential   BROOKLYN              11223   \n",
       "4             McCoy            Residential      BRONX              10467   \n",
       "\n",
       "          Ejectment Eviction/Legal Possession   Latitude  Longitude  \\\n",
       "0  Not an Ejectment                Possession  40.651830 -73.961356   \n",
       "1  Not an Ejectment                Possession  40.718460 -73.955340   \n",
       "2  Not an Ejectment                Possession  40.744310 -73.988924   \n",
       "3  Not an Ejectment                Possession  40.607776 -73.970641   \n",
       "4  Not an Ejectment                Possession  40.873206 -73.866977   \n",
       "\n",
       "   Community Board  Council District  Census Tract        BIN           BBL  \\\n",
       "0             14.0              40.0       50801.0  3346384.0  3.050800e+09   \n",
       "1              1.0              33.0         517.0  3061702.0  3.023050e+09   \n",
       "2              5.0               3.0          58.0  1015657.0  1.008280e+09   \n",
       "3             15.0              44.0         422.0  3176037.0  3.066350e+09   \n",
       "4             12.0              15.0         374.0  2118206.0  2.045960e+09   \n",
       "\n",
       "                                          NTA  \n",
       "0                                    Flatbush  \n",
       "1                       North Side-South Side  \n",
       "2  Hudson Yards-Chelsea-Flatiron-Union Square  \n",
       "3                                   Homecrest  \n",
       "4                    Williamsbridge-Olinville  "
      ]
     },
     "execution_count": 41,
     "metadata": {},
     "output_type": "execute_result"
    }
   ],
   "source": [
    "df.head()"
   ]
  },
  {
   "cell_type": "code",
   "execution_count": 42,
   "metadata": {},
   "outputs": [
    {
     "name": "stdout",
     "output_type": "stream",
     "text": [
      "<class 'pandas.core.frame.DataFrame'>\n",
      "RangeIndex: 77420 entries, 0 to 77419\n",
      "Data columns (total 20 columns):\n",
      " #   Column                     Non-Null Count  Dtype  \n",
      "---  ------                     --------------  -----  \n",
      " 0   Court Index Number         77420 non-null  object \n",
      " 1   Docket Number              77420 non-null  int64  \n",
      " 2   Eviction Address           77420 non-null  object \n",
      " 3   Eviction Apartment Number  64707 non-null  object \n",
      " 4   Executed Date              77420 non-null  object \n",
      " 5   Marshal First Name         77420 non-null  object \n",
      " 6   Marshal Last Name          77420 non-null  object \n",
      " 7   Residential/Commercial     77420 non-null  object \n",
      " 8   BOROUGH                    77420 non-null  object \n",
      " 9   Eviction Postcode          77420 non-null  int64  \n",
      " 10  Ejectment                  77420 non-null  object \n",
      " 11  Eviction/Legal Possession  77420 non-null  object \n",
      " 12  Latitude                   69996 non-null  float64\n",
      " 13  Longitude                  69996 non-null  float64\n",
      " 14  Community Board            69996 non-null  float64\n",
      " 15  Council District           69996 non-null  float64\n",
      " 16  Census Tract               69996 non-null  float64\n",
      " 17  BIN                        69859 non-null  float64\n",
      " 18  BBL                        69859 non-null  float64\n",
      " 19  NTA                        69996 non-null  object \n",
      "dtypes: float64(7), int64(2), object(11)\n",
      "memory usage: 11.8+ MB\n"
     ]
    }
   ],
   "source": [
    "df.info()"
   ]
  },
  {
   "cell_type": "code",
   "execution_count": 43,
   "metadata": {},
   "outputs": [
    {
     "data": {
      "text/plain": [
       "Grossman       11722\n",
       "Daley           7867\n",
       "Rivera          6654\n",
       "Bia             6501\n",
       "Guida           6108\n",
       "Weinheim        5350\n",
       "McCoy           4418\n",
       "Barone          4353\n",
       "Renzulli        3349\n",
       "Essock, Jr.     3305\n",
       "Capuano         2166\n",
       "Rose            2087\n",
       "Chevlowe        1870\n",
       "Locascio        1679\n",
       "Essock          1417\n",
       "Pazant          1337\n",
       "Giachetta       1057\n",
       "Schain           849\n",
       "Villanueva       816\n",
       "Barbarovich      804\n",
       "Powell           757\n",
       "Siracusa         551\n",
       "Smith            516\n",
       "Blake            477\n",
       "Giglio           455\n",
       "Kemp             395\n",
       "Marchisotto      392\n",
       "Solimine         118\n",
       "Pagnotta          50\n",
       "Name: Marshal Last Name, dtype: int64"
      ]
     },
     "execution_count": 43,
     "metadata": {},
     "output_type": "execute_result"
    }
   ],
   "source": [
    "df['Marshal Last Name'].value_counts()"
   ]
  },
  {
   "cell_type": "code",
   "execution_count": 44,
   "metadata": {},
   "outputs": [
    {
     "data": {
      "text/plain": [
       "BRONX            24855\n",
       "BROOKLYN         22668\n",
       "QUEENS           14820\n",
       "MANHATTAN        12320\n",
       "STATEN ISLAND     2757\n",
       "Name: BOROUGH, dtype: int64"
      ]
     },
     "execution_count": 44,
     "metadata": {},
     "output_type": "execute_result"
    }
   ],
   "source": [
    "df['BOROUGH'].value_counts()"
   ]
  },
  {
   "cell_type": "code",
   "execution_count": 45,
   "metadata": {},
   "outputs": [],
   "source": [
    "df['Executed Date'] = pd.to_datetime(df['Executed Date'])"
   ]
  },
  {
   "cell_type": "code",
   "execution_count": 46,
   "metadata": {},
   "outputs": [],
   "source": [
    "df['year'] = df['Executed Date'].dt.year\n",
    "df['month'] = df['Executed Date'].dt.month"
   ]
  },
  {
   "cell_type": "code",
   "execution_count": 47,
   "metadata": {},
   "outputs": [
    {
     "data": {
      "text/plain": [
       "1     9213\n",
       "5     7504\n",
       "3     7462\n",
       "2     7204\n",
       "6     7036\n",
       "4     6621\n",
       "8     6073\n",
       "10    5885\n",
       "7     5683\n",
       "9     5408\n",
       "11    5278\n",
       "12    4053\n",
       "Name: month, dtype: int64"
      ]
     },
     "execution_count": 47,
     "metadata": {},
     "output_type": "execute_result"
    }
   ],
   "source": [
    "df['month'].value_counts()"
   ]
  },
  {
   "cell_type": "code",
   "execution_count": 48,
   "metadata": {},
   "outputs": [],
   "source": [
    "df_2022 = df[df['year'] == 2023]"
   ]
  },
  {
   "cell_type": "code",
   "execution_count": 75,
   "metadata": {},
   "outputs": [
    {
     "data": {
      "image/png": "[encoded data removed]",
      "text/plain": [
       "<Figure size 720x360 with 1 Axes>"
      ]
     },
     "metadata": {
      "needs_background": "light"
     },
     "output_type": "display_data"
    }
   ],
   "source": [
    "fig, ax = plt.subplots(figsize=(10, 5)) \n",
    "\n",
    "ax = df_2022['Marshal Last Name'].value_counts().plot(    \n",
    "    title='2023 Marshals Eviction Numbers',\n",
    "    xlabel='Marshals',\n",
    "    ylabel='Number of Evictions',\n",
    "    kind='bar')"
   ]
  },
  {
   "cell_type": "code",
   "execution_count": 50,
   "metadata": {},
   "outputs": [],
   "source": [
    "df_2022_daley = df_2022[df_2022['Marshal Last Name'] == 'Daley']"
   ]
  },
  {
   "cell_type": "code",
   "execution_count": 51,
   "metadata": {},
   "outputs": [
    {
     "data": {
      "text/plain": [
       "BROOKLYN         277\n",
       "QUEENS           149\n",
       "BRONX            138\n",
       "MANHATTAN         41\n",
       "STATEN ISLAND      3\n",
       "Name: BOROUGH, dtype: int64"
      ]
     },
     "execution_count": 51,
     "metadata": {},
     "output_type": "execute_result"
    }
   ],
   "source": [
    "df_2022_daley['BOROUGH'].value_counts()"
   ]
  },
  {
   "cell_type": "code",
   "execution_count": 52,
   "metadata": {},
   "outputs": [
    {
     "data": {
      "text/plain": [
       "18      2\n",
       "19     52\n",
       "20     48\n",
       "21    105\n",
       "22    401\n",
       "Name: Court Index Number, dtype: int64"
      ]
     },
     "execution_count": 52,
     "metadata": {},
     "output_type": "execute_result"
    }
   ],
   "source": [
    "df_2022_daley['Court Index Number'].str[-2:].value_counts().sort_index()"
   ]
  },
  {
   "cell_type": "code",
   "execution_count": 53,
   "metadata": {},
   "outputs": [
    {
     "data": {
      "text/plain": [
       "<AxesSubplot:>"
      ]
     },
     "execution_count": 53,
     "metadata": {},
     "output_type": "execute_result"
    },
    {
     "data": {
      "image/png": "[encoded data removed]",
      "text/plain": [
       "<Figure size 432x288 with 1 Axes>"
      ]
     },
     "metadata": {
      "needs_background": "light"
     },
     "output_type": "display_data"
    }
   ],
   "source": [
    "df_2022_daley['Court Index Number'].str[-2:].value_counts().sort_index().plot(kind='bar')"
   ]
  },
  {
   "cell_type": "code",
   "execution_count": 54,
   "metadata": {},
   "outputs": [],
   "source": [
    "df_2022_guida = df_2022[df_2022['Marshal Last Name'] == 'Guida']"
   ]
  },
  {
   "cell_type": "code",
   "execution_count": 55,
   "metadata": {},
   "outputs": [
    {
     "data": {
      "text/plain": [
       "12      1\n",
       "17      1\n",
       "18      6\n",
       "19     32\n",
       "20     32\n",
       "21     57\n",
       "22    178\n",
       "23     12\n",
       "Name: Court Index Number, dtype: int64"
      ]
     },
     "execution_count": 55,
     "metadata": {},
     "output_type": "execute_result"
    }
   ],
   "source": [
    "df_2022_guida['Court Index Number'].str[-2:].value_counts().sort_index()"
   ]
  },
  {
   "cell_type": "code",
   "execution_count": 56,
   "metadata": {},
   "outputs": [
    {
     "data": {
      "text/plain": [
       "<AxesSubplot:>"
      ]
     },
     "execution_count": 56,
     "metadata": {},
     "output_type": "execute_result"
    },
    {
     "data": {
      "image/png": "[encoded data removed]",
      "text/plain": [
       "<Figure size 432x288 with 1 Axes>"
      ]
     },
     "metadata": {
      "needs_background": "light"
     },
     "output_type": "display_data"
    }
   ],
   "source": [
    "df_2022_guida['Court Index Number'].str[-2:].value_counts().sort_index().plot(kind='bar')"
   ]
  },
  {
   "cell_type": "code",
   "execution_count": 57,
   "metadata": {},
   "outputs": [],
   "source": [
    "df_2022_grossman = df_2022[df_2022['Marshal Last Name'] == 'Grossman']"
   ]
  },
  {
   "cell_type": "code",
   "execution_count": 58,
   "metadata": {},
   "outputs": [
    {
     "data": {
      "text/html": [
       "<div>\n",
       "<style scoped>\n",
       "    .dataframe tbody tr th:only-of-type {\n",
       "        vertical-align: middle;\n",
       "    }\n",
       "\n",
       "    .dataframe tbody tr th {\n",
       "        vertical-align: top;\n",
       "    }\n",
       "\n",
       "    .dataframe thead th {\n",
       "        text-align: right;\n",
       "    }\n",
       "</style>\n",
       "<table border=\"1\" class=\"dataframe\">\n",
       "  <thead>\n",
       "    <tr style=\"text-align: right;\">\n",
       "      <th></th>\n",
       "      <th>Court Index Number</th>\n",
       "      <th>Docket Number</th>\n",
       "      <th>Eviction Address</th>\n",
       "      <th>Eviction Apartment Number</th>\n",
       "      <th>Executed Date</th>\n",
       "      <th>Marshal First Name</th>\n",
       "      <th>Marshal Last Name</th>\n",
       "      <th>Residential/Commercial</th>\n",
       "      <th>BOROUGH</th>\n",
       "      <th>Eviction Postcode</th>\n",
       "      <th>...</th>\n",
       "      <th>Latitude</th>\n",
       "      <th>Longitude</th>\n",
       "      <th>Community Board</th>\n",
       "      <th>Council District</th>\n",
       "      <th>Census Tract</th>\n",
       "      <th>BIN</th>\n",
       "      <th>BBL</th>\n",
       "      <th>NTA</th>\n",
       "      <th>year</th>\n",
       "      <th>month</th>\n",
       "    </tr>\n",
       "  </thead>\n",
       "  <tbody>\n",
       "    <tr>\n",
       "      <th>76</th>\n",
       "      <td>301466/20</td>\n",
       "      <td>109310</td>\n",
       "      <td>1749 GRAND CONCOURSE</td>\n",
       "      <td>3Q</td>\n",
       "      <td>2023-01-31</td>\n",
       "      <td>Justin</td>\n",
       "      <td>Grossman</td>\n",
       "      <td>Residential</td>\n",
       "      <td>BRONX</td>\n",
       "      <td>10453</td>\n",
       "      <td>...</td>\n",
       "      <td>40.845930</td>\n",
       "      <td>-73.910096</td>\n",
       "      <td>5.0</td>\n",
       "      <td>14.0</td>\n",
       "      <td>22701.0</td>\n",
       "      <td>2007857.0</td>\n",
       "      <td>2.028220e+09</td>\n",
       "      <td>Mount Hope</td>\n",
       "      <td>2023</td>\n",
       "      <td>1</td>\n",
       "    </tr>\n",
       "    <tr>\n",
       "      <th>111</th>\n",
       "      <td>15318/20</td>\n",
       "      <td>110899</td>\n",
       "      <td>1085 NELSON AVENUE</td>\n",
       "      <td>2E</td>\n",
       "      <td>2023-06-06</td>\n",
       "      <td>Justin</td>\n",
       "      <td>Grossman</td>\n",
       "      <td>Residential</td>\n",
       "      <td>BRONX</td>\n",
       "      <td>10452</td>\n",
       "      <td>...</td>\n",
       "      <td>40.834861</td>\n",
       "      <td>-73.927327</td>\n",
       "      <td>4.0</td>\n",
       "      <td>8.0</td>\n",
       "      <td>193.0</td>\n",
       "      <td>2003259.0</td>\n",
       "      <td>2.025140e+09</td>\n",
       "      <td>Highbridge</td>\n",
       "      <td>2023</td>\n",
       "      <td>6</td>\n",
       "    </tr>\n",
       "    <tr>\n",
       "      <th>133</th>\n",
       "      <td>82747/19</td>\n",
       "      <td>112227</td>\n",
       "      <td>7315 12TH AVENUE</td>\n",
       "      <td>2ND FLOOR</td>\n",
       "      <td>2023-04-24</td>\n",
       "      <td>Justin</td>\n",
       "      <td>Grossman</td>\n",
       "      <td>Residential</td>\n",
       "      <td>BROOKLYN</td>\n",
       "      <td>11228</td>\n",
       "      <td>...</td>\n",
       "      <td>40.622651</td>\n",
       "      <td>-74.008559</td>\n",
       "      <td>10.0</td>\n",
       "      <td>43.0</td>\n",
       "      <td>200.0</td>\n",
       "      <td>3158781.0</td>\n",
       "      <td>3.061990e+09</td>\n",
       "      <td>Dyker Heights</td>\n",
       "      <td>2023</td>\n",
       "      <td>4</td>\n",
       "    </tr>\n",
       "    <tr>\n",
       "      <th>243</th>\n",
       "      <td>307136/22</td>\n",
       "      <td>115255</td>\n",
       "      <td>608 RUGBY ROAD</td>\n",
       "      <td>A7</td>\n",
       "      <td>2023-05-17</td>\n",
       "      <td>Justin</td>\n",
       "      <td>Grossman</td>\n",
       "      <td>Residential</td>\n",
       "      <td>BROOKLYN</td>\n",
       "      <td>11230</td>\n",
       "      <td>...</td>\n",
       "      <td>40.634608</td>\n",
       "      <td>-73.964133</td>\n",
       "      <td>14.0</td>\n",
       "      <td>40.0</td>\n",
       "      <td>520.0</td>\n",
       "      <td>3121114.0</td>\n",
       "      <td>3.052340e+09</td>\n",
       "      <td>Flatbush</td>\n",
       "      <td>2023</td>\n",
       "      <td>5</td>\n",
       "    </tr>\n",
       "    <tr>\n",
       "      <th>247</th>\n",
       "      <td>318026/22</td>\n",
       "      <td>117260</td>\n",
       "      <td>435 EAST 79TH STREET</td>\n",
       "      <td>PHM</td>\n",
       "      <td>2023-05-18</td>\n",
       "      <td>Justin</td>\n",
       "      <td>Grossman</td>\n",
       "      <td>Residential</td>\n",
       "      <td>MANHATTAN</td>\n",
       "      <td>10075</td>\n",
       "      <td>...</td>\n",
       "      <td>40.771976</td>\n",
       "      <td>-73.951795</td>\n",
       "      <td>8.0</td>\n",
       "      <td>5.0</td>\n",
       "      <td>136.0</td>\n",
       "      <td>1050350.0</td>\n",
       "      <td>1.015590e+09</td>\n",
       "      <td>Yorkville</td>\n",
       "      <td>2023</td>\n",
       "      <td>5</td>\n",
       "    </tr>\n",
       "    <tr>\n",
       "      <th>...</th>\n",
       "      <td>...</td>\n",
       "      <td>...</td>\n",
       "      <td>...</td>\n",
       "      <td>...</td>\n",
       "      <td>...</td>\n",
       "      <td>...</td>\n",
       "      <td>...</td>\n",
       "      <td>...</td>\n",
       "      <td>...</td>\n",
       "      <td>...</td>\n",
       "      <td>...</td>\n",
       "      <td>...</td>\n",
       "      <td>...</td>\n",
       "      <td>...</td>\n",
       "      <td>...</td>\n",
       "      <td>...</td>\n",
       "      <td>...</td>\n",
       "      <td>...</td>\n",
       "      <td>...</td>\n",
       "      <td>...</td>\n",
       "      <td>...</td>\n",
       "    </tr>\n",
       "    <tr>\n",
       "      <th>77218</th>\n",
       "      <td>300885/22</td>\n",
       "      <td>110677</td>\n",
       "      <td>4 HUNTER PLACE</td>\n",
       "      <td>1ST FLOOR</td>\n",
       "      <td>2023-05-08</td>\n",
       "      <td>Justin</td>\n",
       "      <td>Grossman</td>\n",
       "      <td>Residential</td>\n",
       "      <td>STATEN ISLAND</td>\n",
       "      <td>10301</td>\n",
       "      <td>...</td>\n",
       "      <td>40.634455</td>\n",
       "      <td>-74.102125</td>\n",
       "      <td>1.0</td>\n",
       "      <td>49.0</td>\n",
       "      <td>67.0</td>\n",
       "      <td>5003374.0</td>\n",
       "      <td>5.001320e+09</td>\n",
       "      <td>New Brighton-Silver Lake</td>\n",
       "      <td>2023</td>\n",
       "      <td>5</td>\n",
       "    </tr>\n",
       "    <tr>\n",
       "      <th>77230</th>\n",
       "      <td>304167/22</td>\n",
       "      <td>110053</td>\n",
       "      <td>251 20TH STREET</td>\n",
       "      <td>3F</td>\n",
       "      <td>2023-03-06</td>\n",
       "      <td>Justin</td>\n",
       "      <td>Grossman</td>\n",
       "      <td>Residential</td>\n",
       "      <td>BROOKLYN</td>\n",
       "      <td>11215</td>\n",
       "      <td>...</td>\n",
       "      <td>40.661682</td>\n",
       "      <td>-73.992442</td>\n",
       "      <td>7.0</td>\n",
       "      <td>38.0</td>\n",
       "      <td>143.0</td>\n",
       "      <td>3017181.0</td>\n",
       "      <td>3.008850e+09</td>\n",
       "      <td>Park Slope-Gowanus</td>\n",
       "      <td>2023</td>\n",
       "      <td>3</td>\n",
       "    </tr>\n",
       "    <tr>\n",
       "      <th>77236</th>\n",
       "      <td>308978/22</td>\n",
       "      <td>111316</td>\n",
       "      <td>WEST 4TH STREET STAT ION,SIXTH AVENUE AND EIGH...</td>\n",
       "      <td>UNIT 02-LOCATED AT T</td>\n",
       "      <td>2023-01-06</td>\n",
       "      <td>Justin</td>\n",
       "      <td>Grossman</td>\n",
       "      <td>Commercial</td>\n",
       "      <td>MANHATTAN</td>\n",
       "      <td>10011</td>\n",
       "      <td>...</td>\n",
       "      <td>NaN</td>\n",
       "      <td>NaN</td>\n",
       "      <td>NaN</td>\n",
       "      <td>NaN</td>\n",
       "      <td>NaN</td>\n",
       "      <td>NaN</td>\n",
       "      <td>NaN</td>\n",
       "      <td>NaN</td>\n",
       "      <td>2023</td>\n",
       "      <td>1</td>\n",
       "    </tr>\n",
       "    <tr>\n",
       "      <th>77278</th>\n",
       "      <td>308043/22A</td>\n",
       "      <td>115787</td>\n",
       "      <td>467 LINCOLN PLACE</td>\n",
       "      <td>2ND FLOOR</td>\n",
       "      <td>2023-04-12</td>\n",
       "      <td>Justin</td>\n",
       "      <td>Grossman</td>\n",
       "      <td>Residential</td>\n",
       "      <td>BROOKLYN</td>\n",
       "      <td>11238</td>\n",
       "      <td>...</td>\n",
       "      <td>40.672150</td>\n",
       "      <td>-73.960544</td>\n",
       "      <td>8.0</td>\n",
       "      <td>35.0</td>\n",
       "      <td>217.0</td>\n",
       "      <td>3029615.0</td>\n",
       "      <td>3.011780e+09</td>\n",
       "      <td>Crown Heights North</td>\n",
       "      <td>2023</td>\n",
       "      <td>4</td>\n",
       "    </tr>\n",
       "    <tr>\n",
       "      <th>77411</th>\n",
       "      <td>316316/22</td>\n",
       "      <td>116879</td>\n",
       "      <td>428 WEST 204TH   STR EET</td>\n",
       "      <td>1-5B</td>\n",
       "      <td>2023-05-30</td>\n",
       "      <td>Justin</td>\n",
       "      <td>Grossman</td>\n",
       "      <td>Residential</td>\n",
       "      <td>MANHATTAN</td>\n",
       "      <td>10034</td>\n",
       "      <td>...</td>\n",
       "      <td>40.862026</td>\n",
       "      <td>-73.919087</td>\n",
       "      <td>12.0</td>\n",
       "      <td>10.0</td>\n",
       "      <td>299.0</td>\n",
       "      <td>1079981.0</td>\n",
       "      <td>1.022000e+09</td>\n",
       "      <td>Marble Hill-Inwood</td>\n",
       "      <td>2023</td>\n",
       "      <td>5</td>\n",
       "    </tr>\n",
       "  </tbody>\n",
       "</table>\n",
       "<p>1316 rows × 22 columns</p>\n",
       "</div>"
      ],
      "text/plain": [
       "      Court Index Number  Docket Number   \\\n",
       "76             301466/20          109310   \n",
       "111             15318/20          110899   \n",
       "133             82747/19          112227   \n",
       "243            307136/22          115255   \n",
       "247            318026/22          117260   \n",
       "...                  ...             ...   \n",
       "77218          300885/22          110677   \n",
       "77230          304167/22          110053   \n",
       "77236          308978/22          111316   \n",
       "77278         308043/22A          115787   \n",
       "77411          316316/22          116879   \n",
       "\n",
       "                                        Eviction Address  \\\n",
       "76                                  1749 GRAND CONCOURSE   \n",
       "111                                   1085 NELSON AVENUE   \n",
       "133                                     7315 12TH AVENUE   \n",
       "243                                       608 RUGBY ROAD   \n",
       "247                                 435 EAST 79TH STREET   \n",
       "...                                                  ...   \n",
       "77218                                     4 HUNTER PLACE   \n",
       "77230                                    251 20TH STREET   \n",
       "77236  WEST 4TH STREET STAT ION,SIXTH AVENUE AND EIGH...   \n",
       "77278                                  467 LINCOLN PLACE   \n",
       "77411                           428 WEST 204TH   STR EET   \n",
       "\n",
       "      Eviction Apartment Number Executed Date Marshal First Name  \\\n",
       "76                           3Q    2023-01-31             Justin   \n",
       "111                          2E    2023-06-06             Justin   \n",
       "133                   2ND FLOOR    2023-04-24             Justin   \n",
       "243                          A7    2023-05-17             Justin   \n",
       "247                         PHM    2023-05-18             Justin   \n",
       "...                         ...           ...                ...   \n",
       "77218                 1ST FLOOR    2023-05-08             Justin   \n",
       "77230                        3F    2023-03-06             Justin   \n",
       "77236      UNIT 02-LOCATED AT T    2023-01-06             Justin   \n",
       "77278                 2ND FLOOR    2023-04-12             Justin   \n",
       "77411                      1-5B    2023-05-30             Justin   \n",
       "\n",
       "      Marshal Last Name Residential/Commercial        BOROUGH  \\\n",
       "76             Grossman            Residential          BRONX   \n",
       "111            Grossman            Residential          BRONX   \n",
       "133            Grossman            Residential       BROOKLYN   \n",
       "243            Grossman            Residential       BROOKLYN   \n",
       "247            Grossman            Residential      MANHATTAN   \n",
       "...                 ...                    ...            ...   \n",
       "77218          Grossman            Residential  STATEN ISLAND   \n",
       "77230          Grossman            Residential       BROOKLYN   \n",
       "77236          Grossman             Commercial      MANHATTAN   \n",
       "77278          Grossman            Residential       BROOKLYN   \n",
       "77411          Grossman            Residential      MANHATTAN   \n",
       "\n",
       "       Eviction Postcode  ...   Latitude  Longitude  Community Board  \\\n",
       "76                 10453  ...  40.845930 -73.910096              5.0   \n",
       "111                10452  ...  40.834861 -73.927327              4.0   \n",
       "133                11228  ...  40.622651 -74.008559             10.0   \n",
       "243                11230  ...  40.634608 -73.964133             14.0   \n",
       "247                10075  ...  40.771976 -73.951795              8.0   \n",
       "...                  ...  ...        ...        ...              ...   \n",
       "77218              10301  ...  40.634455 -74.102125              1.0   \n",
       "77230              11215  ...  40.661682 -73.992442              7.0   \n",
       "77236              10011  ...        NaN        NaN              NaN   \n",
       "77278              11238  ...  40.672150 -73.960544              8.0   \n",
       "77411              10034  ...  40.862026 -73.919087             12.0   \n",
       "\n",
       "       Council District  Census Tract        BIN           BBL  \\\n",
       "76                 14.0       22701.0  2007857.0  2.028220e+09   \n",
       "111                 8.0         193.0  2003259.0  2.025140e+09   \n",
       "133                43.0         200.0  3158781.0  3.061990e+09   \n",
       "243                40.0         520.0  3121114.0  3.052340e+09   \n",
       "247                 5.0         136.0  1050350.0  1.015590e+09   \n",
       "...                 ...           ...        ...           ...   \n",
       "77218              49.0          67.0  5003374.0  5.001320e+09   \n",
       "77230              38.0         143.0  3017181.0  3.008850e+09   \n",
       "77236               NaN           NaN        NaN           NaN   \n",
       "77278              35.0         217.0  3029615.0  3.011780e+09   \n",
       "77411              10.0         299.0  1079981.0  1.022000e+09   \n",
       "\n",
       "                            NTA  year month  \n",
       "76                   Mount Hope  2023     1  \n",
       "111                  Highbridge  2023     6  \n",
       "133               Dyker Heights  2023     4  \n",
       "243                    Flatbush  2023     5  \n",
       "247                   Yorkville  2023     5  \n",
       "...                         ...   ...   ...  \n",
       "77218  New Brighton-Silver Lake  2023     5  \n",
       "77230        Park Slope-Gowanus  2023     3  \n",
       "77236                       NaN  2023     1  \n",
       "77278       Crown Heights North  2023     4  \n",
       "77411        Marble Hill-Inwood  2023     5  \n",
       "\n",
       "[1316 rows x 22 columns]"
      ]
     },
     "execution_count": 58,
     "metadata": {},
     "output_type": "execute_result"
    }
   ],
   "source": [
    "df_2022_grossman"
   ]
  },
  {
   "cell_type": "code",
   "execution_count": 59,
   "metadata": {},
   "outputs": [
    {
     "name": "stderr",
     "output_type": "stream",
     "text": [
      "C:\\Users\\booos\\anaconda3\\lib\\site-packages\\pandas\\core\\frame.py:3065: SettingWithCopyWarning: \n",
      "A value is trying to be set on a copy of a slice from a DataFrame.\n",
      "Try using .loc[row_indexer,col_indexer] = value instead\n",
      "\n",
      "See the caveats in the documentation: https://pandas.pydata.org/pandas-docs/stable/user_guide/indexing.html#returning-a-view-versus-a-copy\n",
      "  self[k1] = value[k2]\n"
     ]
    }
   ],
   "source": [
    "df_2022_grossman[['Court Index Number','court_index_year']] = df_2022_grossman['Court Index Number'].str.split('/',1,expand=True)"
   ]
  },
  {
   "cell_type": "code",
   "execution_count": 60,
   "metadata": {},
   "outputs": [
    {
     "data": {
      "text/plain": [
       "76        20\n",
       "111       20\n",
       "133       19\n",
       "243       22\n",
       "247       22\n",
       "        ... \n",
       "77218     22\n",
       "77230     22\n",
       "77236     22\n",
       "77278    22A\n",
       "77411     22\n",
       "Name: court_index_year, Length: 1316, dtype: object"
      ]
     },
     "execution_count": 60,
     "metadata": {},
     "output_type": "execute_result"
    }
   ],
   "source": [
    "df_2022_grossman['court_index_year']"
   ]
  },
  {
   "cell_type": "code",
   "execution_count": 61,
   "metadata": {},
   "outputs": [
    {
     "name": "stderr",
     "output_type": "stream",
     "text": [
      "<ipython-input-61-595dc4001e00>:1: SettingWithCopyWarning: \n",
      "A value is trying to be set on a copy of a slice from a DataFrame.\n",
      "Try using .loc[row_indexer,col_indexer] = value instead\n",
      "\n",
      "See the caveats in the documentation: https://pandas.pydata.org/pandas-docs/stable/user_guide/indexing.html#returning-a-view-versus-a-copy\n",
      "  df_2022_grossman['court_index_year_split'] = df_2022_grossman['court_index_year']\n"
     ]
    }
   ],
   "source": [
    "df_2022_grossman['court_index_year_split'] = df_2022_grossman['court_index_year'] "
   ]
  },
  {
   "cell_type": "code",
   "execution_count": 62,
   "metadata": {},
   "outputs": [
    {
     "data": {
      "text/plain": [
       "BROOKLYN         1862\n",
       "BRONX            1521\n",
       "MANHATTAN        1139\n",
       "QUEENS            792\n",
       "STATEN ISLAND     275\n",
       "Name: BOROUGH, dtype: int64"
      ]
     },
     "execution_count": 62,
     "metadata": {},
     "output_type": "execute_result"
    }
   ],
   "source": [
    "df_2022['BOROUGH'].value_counts()"
   ]
  },
  {
   "cell_type": "code",
   "execution_count": 63,
   "metadata": {},
   "outputs": [
    {
     "data": {
      "text/plain": [
       "<AxesSubplot:>"
      ]
     },
     "execution_count": 63,
     "metadata": {},
     "output_type": "execute_result"
    },
    {
     "data": {
      "image/png": "[encoded data removed]",
      "text/plain": [
       "<Figure size 432x288 with 1 Axes>"
      ]
     },
     "metadata": {
      "needs_background": "light"
     },
     "output_type": "display_data"
    }
   ],
   "source": [
    "df_2022['month'].value_counts().sort_index().plot(kind='bar')"
   ]
  },
  {
   "cell_type": "code",
   "execution_count": 64,
   "metadata": {},
   "outputs": [
    {
     "data": {
      "text/plain": [
       "1     927\n",
       "2     706\n",
       "3     922\n",
       "4     779\n",
       "5    1105\n",
       "6    1150\n",
       "Name: month, dtype: int64"
      ]
     },
     "execution_count": 64,
     "metadata": {},
     "output_type": "execute_result"
    }
   ],
   "source": [
    "df_2022['month'].value_counts().sort_index()"
   ]
  },
  {
   "cell_type": "code",
   "execution_count": 65,
   "metadata": {},
   "outputs": [
    {
     "data": {
      "text/plain": [
       "<AxesSubplot:>"
      ]
     },
     "execution_count": 65,
     "metadata": {},
     "output_type": "execute_result"
    },
    {
     "data": {
      "image/png": "[encoded data removed]",
      "text/plain": [
       "<Figure size 432x288 with 1 Axes>"
      ]
     },
     "metadata": {
      "needs_background": "light"
     },
     "output_type": "display_data"
    }
   ],
   "source": [
    "df_2022['Eviction Postcode'].value_counts().nlargest(n=10).plot(kind='bar')"
   ]
  },
  {
   "cell_type": "code",
   "execution_count": 66,
   "metadata": {},
   "outputs": [
    {
     "data": {
      "text/plain": [
       "10467    161\n",
       "10458    143\n",
       "11226    137\n",
       "11212    125\n",
       "11207    118\n",
       "10453    117\n",
       "10468    112\n",
       "11208     97\n",
       "10460     96\n",
       "10457     95\n",
       "Name: Eviction Postcode, dtype: int64"
      ]
     },
     "execution_count": 66,
     "metadata": {},
     "output_type": "execute_result"
    }
   ],
   "source": [
    "df_2022['Eviction Postcode'].value_counts().nlargest(n=10)"
   ]
  },
  {
   "cell_type": "code",
   "execution_count": 67,
   "metadata": {},
   "outputs": [
    {
     "data": {
      "text/plain": [
       "False    4797\n",
       "True      792\n",
       "Name: BOROUGH, dtype: int64"
      ]
     },
     "execution_count": 67,
     "metadata": {},
     "output_type": "execute_result"
    }
   ],
   "source": [
    "(df_2022['BOROUGH'] == 'QUEENS').value_counts()"
   ]
  },
  {
   "cell_type": "code",
   "execution_count": 68,
   "metadata": {},
   "outputs": [
    {
     "data": {
      "text/plain": [
       "<AxesSubplot:>"
      ]
     },
     "execution_count": 68,
     "metadata": {},
     "output_type": "execute_result"
    },
    {
     "data": {
      "image/png": "[encoded data removed]",
      "text/plain": [
       "<Figure size 432x288 with 1 Axes>"
      ]
     },
     "metadata": {
      "needs_background": "light"
     },
     "output_type": "display_data"
    }
   ],
   "source": [
    "df_2022['Court Index Number'].str[-2:].value_counts().nlargest(n=3).sort_index().plot(kind='bar')"
   ]
  },
  {
   "cell_type": "code",
   "execution_count": 69,
   "metadata": {},
   "outputs": [
    {
     "data": {
      "text/plain": [
       "20     409\n",
       "21     627\n",
       "22    3549\n",
       "Name: Court Index Number, dtype: int64"
      ]
     },
     "execution_count": 69,
     "metadata": {},
     "output_type": "execute_result"
    }
   ],
   "source": [
    "df_2022['Court Index Number'].str[-2:].value_counts().nlargest(n=3).sort_index()"
   ]
  },
  {
   "cell_type": "code",
   "execution_count": 70,
   "metadata": {},
   "outputs": [
    {
     "data": {
      "text/plain": [
       "Residential    4920\n",
       "Commercial      669\n",
       "Name: Residential/Commercial, dtype: int64"
      ]
     },
     "execution_count": 70,
     "metadata": {},
     "output_type": "execute_result"
    }
   ],
   "source": [
    "df_2022['Residential/Commercial'].value_counts()"
   ]
  },
  {
   "cell_type": "code",
   "execution_count": 71,
   "metadata": {},
   "outputs": [
    {
     "data": {
      "text/plain": [
       "Residential    1165\n",
       "Commercial      151\n",
       "Name: Residential/Commercial, dtype: int64"
      ]
     },
     "execution_count": 71,
     "metadata": {},
     "output_type": "execute_result"
    }
   ],
   "source": [
    "df_2022_grossman['Residential/Commercial'].value_counts()"
   ]
  },
  {
   "cell_type": "code",
   "execution_count": 72,
   "metadata": {},
   "outputs": [
    {
     "data": {
      "text/plain": [
       "BROOKLYN         517\n",
       "BRONX            400\n",
       "MANHATTAN        255\n",
       "QUEENS           109\n",
       "STATEN ISLAND     35\n",
       "Name: BOROUGH, dtype: int64"
      ]
     },
     "execution_count": 72,
     "metadata": {},
     "output_type": "execute_result"
    }
   ],
   "source": [
    "df_2022_grossman['BOROUGH'].value_counts()"
   ]
  },
  {
   "cell_type": "code",
   "execution_count": 73,
   "metadata": {},
   "outputs": [
    {
     "data": {
      "text/plain": [
       "<AxesSubplot:>"
      ]
     },
     "execution_count": 73,
     "metadata": {},
     "output_type": "execute_result"
    },
    {
     "data": {
      "image/png": "[encoded data removed]",
      "text/plain": [
       "<Figure size 432x288 with 1 Axes>"
      ]
     },
     "metadata": {
      "needs_background": "light"
     },
     "output_type": "display_data"
    }
   ],
   "source": [
    "df['year'].value_counts().sort_index().plot(kind='bar')"
   ]
  },
  {
   "cell_type": "code",
   "execution_count": 74,
   "metadata": {},
   "outputs": [
    {
     "data": {
      "text/plain": [
       "2017    22522\n",
       "2018    21830\n",
       "2019    18715\n",
       "2020     3422\n",
       "2021      268\n",
       "2022     5074\n",
       "2023     5589\n",
       "Name: year, dtype: int64"
      ]
     },
     "execution_count": 74,
     "metadata": {},
     "output_type": "execute_result"
    }
   ],
   "source": [
    "df['year'].value_counts().sort_index()"
   ]
  },
  {
   "cell_type": "code",
   "execution_count": null,
   "metadata": {},
   "outputs": [],
   "source": []
  },
  {
   "cell_type": "code",
   "execution_count": null,
   "metadata": {},
   "outputs": [],
   "source": []
  }
 ],
 "metadata": {
  "kernelspec": {
   "display_name": "Python 3",
   "language": "python",
   "name": "python3"
  },
  "language_info": {
   "codemirror_mode": {
    "name": "ipython",
    "version": 3
   },
   "file_extension": ".py",
   "mimetype": "text/x-python",
   "name": "python",
   "nbconvert_exporter": "python",
   "pygments_lexer": "ipython3",
   "version": "3.8.5"
  }
 },
 "nbformat": 4,
 "nbformat_minor": 4
}
